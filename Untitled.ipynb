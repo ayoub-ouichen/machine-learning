{
 "cells": [
  {
   "cell_type": "code",
   "execution_count": 1,
   "id": "54e1c767",
   "metadata": {},
   "outputs": [],
   "source": [
    "import MetaTrader5 as mt5\n",
    "import pyodbc\n",
    "from datetime import datetime"
   ]
  },
  {
   "cell_type": "code",
   "execution_count": 2,
   "id": "2d06826c",
   "metadata": {},
   "outputs": [
    {
     "data": {
      "text/plain": [
       "True"
      ]
     },
     "execution_count": 2,
     "metadata": {},
     "output_type": "execute_result"
    }
   ],
   "source": [
    "mt5.initialize()"
   ]
  },
  {
   "cell_type": "code",
   "execution_count": 3,
   "id": "453f2b02",
   "metadata": {},
   "outputs": [],
   "source": [
    "login = 510412913\n",
    "password = 'Lwalid@2020'\n",
    "server = 'FxPro-MT5'"
   ]
  },
  {
   "cell_type": "code",
   "execution_count": 4,
   "id": "efa11f1e",
   "metadata": {},
   "outputs": [
    {
     "data": {
      "text/plain": [
       "True"
      ]
     },
     "execution_count": 4,
     "metadata": {},
     "output_type": "execute_result"
    }
   ],
   "source": [
    "mt5.login(login, password, server)"
   ]
  },
  {
   "cell_type": "code",
   "execution_count": 74,
   "id": "dfe358e6",
   "metadata": {},
   "outputs": [],
   "source": [
    "def connect_to_sql_server(server, database, username, password):\n",
    "    connection_string = f\"DRIVER={{SQL Server}};SERVER={server};DATABASE={database};UID={username};PWD={password}\"\n",
    "    return pyodbc.connect(connection_string)\n",
    "\n",
    "def retrieve_GBPJPY_data(connection, my_args):\n",
    "    mt5.initialize()\n",
    "    cursor = connection.cursor()\n",
    "    sqlServerQuery = f\"SELECT top 1 * FROM {'PRICE_DATA_GBPJPY_' + my_args[0]} ORDER BY mt5_Timestamp DESC\" \n",
    "    cursor.execute(sqlServerQuery) \n",
    "    rows = cursor.fetchall()\n",
    "    dateTarget = rows[0][0] if rows else my_args[2]\n",
    "    cursor.close()\n",
    "    rates = mt5.copy_rates_range(\"GBPJPY\", my_args[1], dateTarget, datetime.now())\n",
    "    mt5.shutdown()\n",
    "    return rates\n",
    "\n",
    "def check_if_data_exists(connection, timestamp, my_args):\n",
    "    cursor = connection.cursor()\n",
    "    sqlServerQuery = f\"SELECT COUNT(*) FROM {'PRICE_DATA_GBPJPY_' + my_args[0]} WHERE mt5_Timestamp = '{datetime.fromtimestamp(timestamp).strftime('%Y-%m-%d %H:%M:%S')}'\" \n",
    "    cursor.execute(sqlServerQuery)\n",
    "    count = cursor.fetchone()[0]\n",
    "    return count > 0\n",
    "\n",
    "def insert_data_to_sql_server(connection, data, my_args):\n",
    "    cursor = connection.cursor()\n",
    "    for row in data:\n",
    "        timestamp, open_price, high_price, low_price, close_price, tick_volume, *_ = row\n",
    "        if not check_if_data_exists(connection, timestamp, my_args):\n",
    "            # Convert tick_volume to integer\n",
    "            tick_volume = int(tick_volume)\n",
    "            sqlServerQuery = f\"INSERT INTO {'PRICE_DATA_GBPJPY_' + my_args[0]} (mt5_Timestamp, mt5_Open, mt5_High, mt5_Low, mt5_Close, mt5_Volume) VALUES ('{datetime.fromtimestamp(timestamp).strftime('%Y-%m-%d %H:%M:%S')}',{open_price}, {high_price}, {low_price}, {close_price}, {tick_volume})\"\n",
    "            cursor.execute(sqlServerQuery)\n",
    "    connection.commit()\n",
    "\n",
    "# function to delete last row in a table to renew it \n",
    "def deletelastbare(connection, my_args):\n",
    "    cursor = connection.cursor()\n",
    "    sqlServerQuery = f\"SELECT top 1 * FROM {'PRICE_DATA_GBPJPY_' + my_args[0]} ORDER BY mt5_Timestamp DESC\" \n",
    "    cursor.execute(sqlServerQuery) \n",
    "    rows = cursor.fetchall()\n",
    "    if rows:\n",
    "        dateTarget = rows[0][0]\n",
    "        sqlServerQuery = f\"DELETE FROM {'PRICE_DATA_GBPJPY_' + my_args[0]} WHERE mt5_Timestamp = '{dateTarget}'\" \n",
    "        cursor.execute(sqlServerQuery)\n",
    "        connection.commit()\n",
    "    cursor.close() \n",
    "\n",
    "def switch_case(argument):\n",
    "    switcher = {\n",
    "        'M5' : ['M5', mt5.TIMEFRAME_M5, datetime(2023, 5, 1)],\n",
    "        'M15' : ['M15', mt5.TIMEFRAME_M15, datetime(2022, 1, 1)],\n",
    "        'H1' : ['H1', mt5.TIMEFRAME_H1, datetime(2018, 1, 1)],   \n",
    "        'H4' : ['H4', mt5.TIMEFRAME_H4, datetime(2018, 1, 1)],  \n",
    "        'D1' : ['D1', mt5.TIMEFRAME_D1, datetime(2010, 1, 1)],    \n",
    "        'W1' : ['W1', mt5.TIMEFRAME_W1, datetime(2007, 1, 1)],\n",
    "        'MN1' : ['MN1', mt5.TIMEFRAME_MN1, datetime(2007, 1, 1)],      \n",
    "    }\n",
    "    return switcher.get(argument, \"Invalid case\")\n",
    "    \n",
    "if __name__ == \"__main__\":\n",
    "    server = 'LAP-DEV4\\\\TIREXRL'\n",
    "    database = 'forex'\n",
    "    username = 'devouichen'\n",
    "    password = 'devouichen'\n",
    "\n",
    "    # Example usage:\n",
    "    my_args = switch_case('M5')\n",
    "    \n",
    "    connection = connect_to_sql_server(server, database, username, password)\n",
    "    data = retrieve_GBPJPY_data(connection, my_args)\n",
    "    deletelastbare(connection, my_args)\n",
    "    insert_data_to_sql_server(connection, data, my_args)\n",
    "    connection.close()"
   ]
  },
  {
   "cell_type": "code",
   "execution_count": null,
   "id": "1499730f",
   "metadata": {},
   "outputs": [],
   "source": []
  },
  {
   "cell_type": "code",
   "execution_count": null,
   "id": "0f2faf83",
   "metadata": {},
   "outputs": [],
   "source": []
  }
 ],
 "metadata": {
  "kernelspec": {
   "display_name": "Python 3 (ipykernel)",
   "language": "python",
   "name": "python3"
  },
  "language_info": {
   "codemirror_mode": {
    "name": "ipython",
    "version": 3
   },
   "file_extension": ".py",
   "mimetype": "text/x-python",
   "name": "python",
   "nbconvert_exporter": "python",
   "pygments_lexer": "ipython3",
   "version": "3.11.5"
  }
 },
 "nbformat": 4,
 "nbformat_minor": 5
}
